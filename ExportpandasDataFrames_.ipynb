{
  "nbformat": 4,
  "nbformat_minor": 0,
  "metadata": {
    "colab": {
      "name": "ExportpandasDataFrames .ipynb",
      "provenance": [],
      "authorship_tag": "ABX9TyM0xXdiIBerSw7C9TQp+bvx",
      "include_colab_link": true
    },
    "kernelspec": {
      "name": "python3",
      "display_name": "Python 3"
    },
    "language_info": {
      "name": "python"
    }
  },
  "cells": [
    {
      "cell_type": "markdown",
      "metadata": {
        "id": "view-in-github",
        "colab_type": "text"
      },
      "source": [
        "<a href=\"https://colab.research.google.com/github/liberato10/Export-pandas-DataFrames/blob/main/ExportpandasDataFrames_.ipynb\" target=\"_parent\"><img src=\"https://colab.research.google.com/assets/colab-badge.svg\" alt=\"Open In Colab\"/></a>"
      ]
    },
    {
      "cell_type": "code",
      "execution_count": null,
      "metadata": {
        "colab": {
          "base_uri": "https://localhost:8080/"
        },
        "id": "Jjtzb6jidm1W",
        "outputId": "11621fe0-5d75-414a-87f4-cb2cf254a760"
      },
      "outputs": [
        {
          "output_type": "stream",
          "name": "stdout",
          "text": [
            "Mounted at /content/drive\n"
          ]
        }
      ],
      "source": [
        "from google.colab import drive\n",
        "\n",
        "drive.mount('/content/drive')"
      ]
    },
    {
      "cell_type": "code",
      "source": [
        "import pandas as pd"
      ],
      "metadata": {
        "id": "hsebkcjUdpQh"
      },
      "execution_count": null,
      "outputs": []
    },
    {
      "cell_type": "code",
      "source": [
        "# Keep in mind that the filename will likely be different on your computer (especially later in course)\n",
        "\n",
        "filename = '/content/drive/MyDrive/mortgages (1).csv'\n",
        "\n",
        "df = pd.read_csv(filename)"
      ],
      "metadata": {
        "id": "RB3vfGxTdyYY"
      },
      "execution_count": null,
      "outputs": []
    },
    {
      "cell_type": "code",
      "source": [
        "mortgage_filter = df['Mortgage Name']=='30 Year'\n",
        "\n",
        "interest_filter = df['Interest Rate']==0.03\n",
        "\n",
        "df = df.loc[mortgage_filter & interest_filter, :]"
      ],
      "metadata": {
        "id": "nxqxB9BNeRzD"
      },
      "execution_count": null,
      "outputs": []
    },
    {
      "cell_type": "code",
      "source": [
        "# Export DataFrame to csv File\n",
        "\n",
        "df.to_csv(path_or_buf='oneMortgage.csv',index = False)\n",
        "\n",
        "\n",
        "# Export DataFrame to Excel File\n",
        "\n",
        "df.to_excel(excel_writer='oneMortgage.xlsx',index=False)"
      ],
      "metadata": {
        "id": "lKVHmFfqefEV"
      },
      "execution_count": null,
      "outputs": []
    },
    {
      "cell_type": "code",
      "source": [
        "# Keep in mind that if you dont know what a methods parameters do,\n",
        "\n",
        "# you can look them up using the help command.\n",
        "\n",
        "help(df.to_csv);"
      ],
      "metadata": {
        "colab": {
          "base_uri": "https://localhost:8080/"
        },
        "id": "PhVIeFWAfeiC",
        "outputId": "104faa28-90c3-4627-9f7b-76360a3bdd3e"
      },
      "execution_count": 9,
      "outputs": [
        {
          "output_type": "stream",
          "name": "stdout",
          "text": [
            "Help on method to_csv in module pandas.core.generic:\n",
            "\n",
            "to_csv(path_or_buf: 'FilePathOrBuffer[AnyStr] | None' = None, sep: 'str' = ',', na_rep: 'str' = '', float_format: 'str | None' = None, columns: 'Sequence[Hashable] | None' = None, header: 'bool_t | list[str]' = True, index: 'bool_t' = True, index_label: 'IndexLabel | None' = None, mode: 'str' = 'w', encoding: 'str | None' = None, compression: 'CompressionOptions' = 'infer', quoting: 'int | None' = None, quotechar: 'str' = '\"', line_terminator: 'str | None' = None, chunksize: 'int | None' = None, date_format: 'str | None' = None, doublequote: 'bool_t' = True, escapechar: 'str | None' = None, decimal: 'str' = '.', errors: 'str' = 'strict', storage_options: 'StorageOptions' = None) -> 'str | None' method of pandas.core.frame.DataFrame instance\n",
            "    Write object to a comma-separated values (csv) file.\n",
            "    \n",
            "    Parameters\n",
            "    ----------\n",
            "    path_or_buf : str or file handle, default None\n",
            "        File path or object, if None is provided the result is returned as\n",
            "        a string.  If a non-binary file object is passed, it should be opened\n",
            "        with `newline=''`, disabling universal newlines. If a binary\n",
            "        file object is passed, `mode` might need to contain a `'b'`.\n",
            "    \n",
            "        .. versionchanged:: 1.2.0\n",
            "    \n",
            "           Support for binary file objects was introduced.\n",
            "    \n",
            "    sep : str, default ','\n",
            "        String of length 1. Field delimiter for the output file.\n",
            "    na_rep : str, default ''\n",
            "        Missing data representation.\n",
            "    float_format : str, default None\n",
            "        Format string for floating point numbers.\n",
            "    columns : sequence, optional\n",
            "        Columns to write.\n",
            "    header : bool or list of str, default True\n",
            "        Write out the column names. If a list of strings is given it is\n",
            "        assumed to be aliases for the column names.\n",
            "    index : bool, default True\n",
            "        Write row names (index).\n",
            "    index_label : str or sequence, or False, default None\n",
            "        Column label for index column(s) if desired. If None is given, and\n",
            "        `header` and `index` are True, then the index names are used. A\n",
            "        sequence should be given if the object uses MultiIndex. If\n",
            "        False do not print fields for index names. Use index_label=False\n",
            "        for easier importing in R.\n",
            "    mode : str\n",
            "        Python write mode, default 'w'.\n",
            "    encoding : str, optional\n",
            "        A string representing the encoding to use in the output file,\n",
            "        defaults to 'utf-8'. `encoding` is not supported if `path_or_buf`\n",
            "        is a non-binary file object.\n",
            "    compression : str or dict, default 'infer'\n",
            "        If str, represents compression mode. If dict, value at 'method' is\n",
            "        the compression mode. Compression mode may be any of the following\n",
            "        possible values: {'infer', 'gzip', 'bz2', 'zip', 'xz', None}. If\n",
            "        compression mode is 'infer' and `path_or_buf` is path-like, then\n",
            "        detect compression mode from the following extensions: '.gz',\n",
            "        '.bz2', '.zip' or '.xz'. (otherwise no compression). If dict given\n",
            "        and mode is one of {'zip', 'gzip', 'bz2'}, or inferred as\n",
            "        one of the above, other entries passed as\n",
            "        additional compression options.\n",
            "    \n",
            "        .. versionchanged:: 1.0.0\n",
            "    \n",
            "           May now be a dict with key 'method' as compression mode\n",
            "           and other entries as additional compression options if\n",
            "           compression mode is 'zip'.\n",
            "    \n",
            "        .. versionchanged:: 1.1.0\n",
            "    \n",
            "           Passing compression options as keys in dict is\n",
            "           supported for compression modes 'gzip' and 'bz2'\n",
            "           as well as 'zip'.\n",
            "    \n",
            "        .. versionchanged:: 1.2.0\n",
            "    \n",
            "            Compression is supported for binary file objects.\n",
            "    \n",
            "        .. versionchanged:: 1.2.0\n",
            "    \n",
            "            Previous versions forwarded dict entries for 'gzip' to\n",
            "            `gzip.open` instead of `gzip.GzipFile` which prevented\n",
            "            setting `mtime`.\n",
            "    \n",
            "    quoting : optional constant from csv module\n",
            "        Defaults to csv.QUOTE_MINIMAL. If you have set a `float_format`\n",
            "        then floats are converted to strings and thus csv.QUOTE_NONNUMERIC\n",
            "        will treat them as non-numeric.\n",
            "    quotechar : str, default '\\\"'\n",
            "        String of length 1. Character used to quote fields.\n",
            "    line_terminator : str, optional\n",
            "        The newline character or character sequence to use in the output\n",
            "        file. Defaults to `os.linesep`, which depends on the OS in which\n",
            "        this method is called ('\\\\n' for linux, '\\\\r\\\\n' for Windows, i.e.).\n",
            "    chunksize : int or None\n",
            "        Rows to write at a time.\n",
            "    date_format : str, default None\n",
            "        Format string for datetime objects.\n",
            "    doublequote : bool, default True\n",
            "        Control quoting of `quotechar` inside a field.\n",
            "    escapechar : str, default None\n",
            "        String of length 1. Character used to escape `sep` and `quotechar`\n",
            "        when appropriate.\n",
            "    decimal : str, default '.'\n",
            "        Character recognized as decimal separator. E.g. use ',' for\n",
            "        European data.\n",
            "    errors : str, default 'strict'\n",
            "        Specifies how encoding and decoding errors are to be handled.\n",
            "        See the errors argument for :func:`open` for a full list\n",
            "        of options.\n",
            "    \n",
            "        .. versionadded:: 1.1.0\n",
            "    \n",
            "    storage_options : dict, optional\n",
            "        Extra options that make sense for a particular storage connection, e.g.\n",
            "        host, port, username, password, etc. For HTTP(S) URLs the key-value pairs\n",
            "        are forwarded to ``urllib`` as header options. For other URLs (e.g.\n",
            "        starting with \"s3://\", and \"gcs://\") the key-value pairs are forwarded to\n",
            "        ``fsspec``. Please see ``fsspec`` and ``urllib`` for more details.\n",
            "    \n",
            "        .. versionadded:: 1.2.0\n",
            "    \n",
            "    Returns\n",
            "    -------\n",
            "    None or str\n",
            "        If path_or_buf is None, returns the resulting csv format as a\n",
            "        string. Otherwise returns None.\n",
            "    \n",
            "    See Also\n",
            "    --------\n",
            "    read_csv : Load a CSV file into a DataFrame.\n",
            "    to_excel : Write DataFrame to an Excel file.\n",
            "    \n",
            "    Examples\n",
            "    --------\n",
            "    >>> df = pd.DataFrame({'name': ['Raphael', 'Donatello'],\n",
            "    ...                    'mask': ['red', 'purple'],\n",
            "    ...                    'weapon': ['sai', 'bo staff']})\n",
            "    >>> df.to_csv(index=False)\n",
            "    'name,mask,weapon\\nRaphael,red,sai\\nDonatello,purple,bo staff\\n'\n",
            "    \n",
            "    Create 'out.zip' containing 'out.csv'\n",
            "    \n",
            "    >>> compression_opts = dict(method='zip',\n",
            "    ...                         archive_name='out.csv')  # doctest: +SKIP\n",
            "    >>> df.to_csv('out.zip', index=False,\n",
            "    ...           compression=compression_opts)  # doctest: +SKIP\n",
            "\n"
          ]
        }
      ]
    }
  ]
}